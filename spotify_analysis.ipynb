{
 "cells": [
  {
   "cell_type": "markdown",
   "id": "44c50da6",
   "metadata": {},
   "source": [
    "# 🎵 Spotify Wrapped Personalizado"
   ]
  },
  {
   "cell_type": "code",
   "execution_count": 23,
   "id": "df905fb9",
   "metadata": {},
   "outputs": [
    {
     "name": "stdout",
     "output_type": "stream",
     "text": [
      "¡Entorno listo para Spotify Wrapped!\n"
     ]
    }
   ],
   "source": [
    "import spotipy\n",
    "import pandas as pd\n",
    "import numpy as np\n",
    "import matplotlib.pyplot as plt\n",
    "import seaborn as sns\n",
    "import os\n",
    "from spotipy.oauth2 import SpotifyOAuth\n",
    "from main_functions import *\n",
    "\n",
    "#Librerías de IA\n",
    "from sklearn.model_selection import train_test_split\n",
    "from sklearn.ensemble import RandomForestClassifier\n",
    "from sklearn.metrics import accuracy_score\n",
    "from sklearn.preprocessing import OneHotEncoder\n",
    "from sklearn.preprocessing import LabelEncoder\n",
    "\n",
    "# Ajustar la fuente para soportar emojis\n",
    "plt.rcParams['font.family'] = 'DejaVu Sans'\n",
    "\n",
    "print(\"¡Entorno listo para Spotify Wrapped!\")"
   ]
  },
  {
   "cell_type": "markdown",
   "id": "0992913b",
   "metadata": {},
   "source": [
    "🔐 Autenticación con Spotify"
   ]
  },
  {
   "cell_type": "code",
   "execution_count": null,
   "id": "02b6e2bb",
   "metadata": {},
   "outputs": [],
   "source": [
    "# Llamar a la función de autenticación\n",
    "sp = authenticate_spotify()"
   ]
  },
  {
   "cell_type": "markdown",
   "id": "625922d5",
   "metadata": {},
   "source": [
    "📊 Obtener los artistas y canciones más escuchadas"
   ]
  },
  {
   "cell_type": "code",
   "execution_count": null,
   "id": "f7933d9d",
   "metadata": {},
   "outputs": [],
   "source": [
    "# Obtener los 50 artistas más escuchados\n",
    "top_artists = get_top_artists(sp, 50)\n",
    "\n",
    "# Mostrar los X artistas más escuchados\n",
    "artists_n = 20\n",
    "print(f\"🎤 Tus {artists_n} artistas más escuchados:\")\n",
    "display_top_artists(top_artists, artists_n)"
   ]
  },
  {
   "cell_type": "code",
   "execution_count": null,
   "id": "809a81d8",
   "metadata": {},
   "outputs": [],
   "source": [
    "# Obtener las 50 canciones más escuchadas\n",
    "top_tracks = get_top_tracks(sp, limit=50)\n",
    "\n",
    "# Mostrar las X canciones más escuchadas\n",
    "tracks_n = 20\n",
    "print(f\"\\n🎵 Tus {tracks_n} canciones más escuchadas:\")\n",
    "display_top_tracks(top_tracks, display_limit=tracks_n)"
   ]
  },
  {
   "cell_type": "markdown",
   "id": "7abd508a",
   "metadata": {},
   "source": [
    "📈 Análisis de la popularidad de las canciones"
   ]
  },
  {
   "cell_type": "markdown",
   "id": "6fe8834e",
   "metadata": {},
   "source": [
    "Este gráfico nos muestra que tan mainstream eres. O sin embargo tienes un gusto que no se adapta a lo popular."
   ]
  },
  {
   "cell_type": "code",
   "execution_count": null,
   "id": "f659d852",
   "metadata": {},
   "outputs": [],
   "source": [
    "# Obtener la popularidad de las canciones\n",
    "track_popularity = [track['popularity'] for track in top_tracks['items']]\n",
    "\n",
    "# Visualizar la distribución de la popularidad\n",
    "plt.figure(figsize=(10, 5))\n",
    "sns.histplot(track_popularity, bins=20, kde=True, color='purple')\n",
    "plt.title('🎵 Distribución de la Popularidad de tus Canciones Más Escuchadas')\n",
    "plt.xlabel('Popularidad (0-100)')\n",
    "plt.ylabel('Frecuencia')\n",
    "plt.show()"
   ]
  },
  {
   "cell_type": "markdown",
   "id": "fa071650",
   "metadata": {},
   "source": [
    "📆 Años de lanzamiento de tus canciones más escuchadas"
   ]
  },
  {
   "cell_type": "code",
   "execution_count": null,
   "id": "df1bd1e6",
   "metadata": {},
   "outputs": [],
   "source": [
    "# Obtener el año de lanzamiento de las canciones\n",
    "track_years = [int(track['album']['release_date'][:4]) for track in top_tracks['items']]\n",
    "\n",
    "# Crear un DataFrame para analizar la distribución de años\n",
    "year_df = pd.DataFrame(track_years, columns=['year'])\n",
    "\n",
    "# Crear una nueva columna para agrupar en décadas\n",
    "year_df['decade'] = (year_df['year'] // 10) * 10  # Agrupar por décadas (ej. 1990, 2000, etc.)\n",
    "\n",
    "# Graficar la distribución de las décadas\n",
    "plt.figure(figsize=(10, 5))\n",
    "sns.countplot(x='decade', data=year_df, palette='coolwarm', order=year_df['decade'].value_counts().index)\n",
    "plt.title('📆 Años de Lanzamiento de tus Canciones Más Escuchadas (Por Décadas)')\n",
    "plt.xlabel('Década')\n",
    "plt.ylabel('Cantidad de Canciones')\n",
    "plt.show()"
   ]
  },
  {
   "cell_type": "markdown",
   "id": "551c691b",
   "metadata": {},
   "source": [
    "Creamos un dataframe con los artistas más escuchados y su género musical"
   ]
  },
  {
   "cell_type": "code",
   "execution_count": null,
   "id": "c4ba74ed",
   "metadata": {},
   "outputs": [],
   "source": [
    "# Crear un DataFrame con los artistas más escuchados\n",
    "artist_data = pd.DataFrame(top_artists['items'])\n",
    "\n",
    "# Eliminar columnas innecesarias y crear una copia explícita para evitar el warning\n",
    "artist_data_clean = artist_data[['name', 'genres', 'followers', 'popularity']].copy()\n",
    "\n",
    "# Reemplazar valores nulos en 'genres' por 'Desconocido' de forma segura\n",
    "artist_data_clean.loc[:, 'genres'] = artist_data_clean['genres'].apply(lambda x: ', '.join(x) if x else 'Desconocido')\n",
    "\n",
    "print(artist_data_clean.head())\n"
   ]
  },
  {
   "cell_type": "code",
   "execution_count": null,
   "id": "61ce8666",
   "metadata": {},
   "outputs": [],
   "source": [
    "# Contar la frecuencia de cada artista\n",
    "artist_counts = pd.Series([track['artists'][0]['name'] for track in top_tracks['items']]).value_counts()\n",
    "\n",
    "# Mostrar un gráfico de pastel con los 10 artistas más repetidos\n",
    "plt.figure(figsize=(8, 8))\n",
    "artist_counts.head(10).plot.pie(autopct='%1.1f%%', startangle=90, cmap='Set2')\n",
    "plt.title('🎤 Diversidad de Artistas (Top 10 más repetidos)')\n",
    "plt.ylabel('')\n",
    "plt.show()\n"
   ]
  },
  {
   "cell_type": "markdown",
   "id": "c28d7d4d",
   "metadata": {},
   "source": [
    "Vamos a analizar los géneros más escuchados"
   ]
  },
  {
   "cell_type": "code",
   "execution_count": null,
   "id": "d441f934",
   "metadata": {},
   "outputs": [],
   "source": [
    "# 📊 Procesar las canciones y sus géneros\n",
    "track_data = []\n",
    "\n",
    "for idx, track in enumerate(top_tracks['items']):\n",
    "    track_name = track['name']\n",
    "    main_artist = track['artists'][0]['name']\n",
    "    artist_id = track['artists'][0]['id']\n",
    "    \n",
    "    # Obtener detalles del artista para conocer los géneros\n",
    "    artist_info = sp.artist(artist_id)\n",
    "    genres = artist_info['genres']\n",
    "\n",
    "    # Guardar la información (peso inverso: canción 1 tiene más peso)\n",
    "    weight = 1 / (idx + 1)  \n",
    "    for genre in genres:\n",
    "        track_data.append({'track': track_name, 'artist': main_artist, 'genre': genre, 'weight': weight})\n",
    "\n",
    "# Convertir a DataFrame\n",
    "track_df = pd.DataFrame(track_data)\n",
    "\n",
    "# 🧮 Calcular el peso total por género\n",
    "genre_weights = track_df.groupby('genre')['weight'].sum().sort_values(ascending=False)\n",
    "\n",
    "# 📊 Mostrar el Top 10 Géneros Ponderados\n",
    "print(genre_weights.head(10))\n",
    "\n",
    "# 📊 Visualizar los géneros más escuchados con peso\n",
    "plt.figure(figsize=(12, 6))\n",
    "sns.barplot(x=genre_weights.head(10).values, y=genre_weights.head(10).index, palette='viridis')\n",
    "plt.title('Top 10 Géneros Más Escuchados (Ponderados por Frecuencia)')\n",
    "plt.xlabel('Peso Total')\n",
    "plt.ylabel('Género')\n",
    "plt.show()"
   ]
  },
  {
   "cell_type": "markdown",
   "id": "3d5ec8cf",
   "metadata": {},
   "source": [
    "Ordenamos los artistas según sus seguidores e identificamos el más popular de nuestro top"
   ]
  },
  {
   "cell_type": "code",
   "execution_count": null,
   "id": "392ae8d6",
   "metadata": {},
   "outputs": [],
   "source": [
    "# Obtener los 10 artistas más escuchados\n",
    "top_artists = get_top_artists(sp, limit=10)\n",
    "\n",
    "# Crear DataFrame con los artistas más escuchados\n",
    "artist_data = pd.DataFrame(top_artists['items'])\n",
    "\n",
    "# Limpiar y organizar los datos de los artistas\n",
    "artist_data_clean = artist_data[['name', 'genres', 'followers', 'popularity']].copy()\n",
    "\n",
    "# Extraer el número total de seguidores\n",
    "artist_data_clean['followers'] = artist_data_clean['followers'].apply(lambda x: x['total'])\n",
    "\n",
    "# Mostrar los 10 artistas más escuchados\n",
    "print(\"🎶 Tus 10 artistas más escuchados:\")\n",
    "print(artist_data_clean)"
   ]
  },
  {
   "cell_type": "code",
   "execution_count": null,
   "id": "50c2ab0d",
   "metadata": {},
   "outputs": [],
   "source": [
    "# Artista con más seguidores\n",
    "most_followed_artist = artist_data_clean.loc[artist_data_clean['followers'].idxmax()]\n",
    "print(f\"\\n🎤 Artista con más seguidores: {most_followed_artist['name']} - {most_followed_artist['followers']} seguidores\")"
   ]
  },
  {
   "cell_type": "code",
   "execution_count": null,
   "id": "3a431f99",
   "metadata": {},
   "outputs": [],
   "source": [
    "# Gráfico de barras con los artistas más populares (de tus 10 más escuchados)\n",
    "plt.figure(figsize=(12, 6))\n",
    "sns.barplot(x=artist_data_clean['popularity'], y=artist_data_clean['name'], palette='magma')\n",
    "plt.title('🔥 Popularidad de tus 10 Artistas Más Escuchados')\n",
    "plt.xlabel('Popularidad (0-100)')\n",
    "plt.ylabel('Artista')\n",
    "plt.show()"
   ]
  },
  {
   "cell_type": "markdown",
   "id": "a835762a",
   "metadata": {},
   "source": [
    "IA QUE PREDICE SI TE GUSTARÁ UNA CANCIÓN O NO"
   ]
  },
  {
   "cell_type": "code",
   "execution_count": 25,
   "id": "c744e494",
   "metadata": {},
   "outputs": [
    {
     "name": "stdout",
     "output_type": "stream",
     "text": [
      "                                                 name                artist  \\\n",
      "0                                19 Dias y 500 Noches        Joaquín Sabina   \n",
      "1                                       Qué Facilidad             Sen Senra   \n",
      "2                                   BAILE INoLVIDABLE             Bad Bunny   \n",
      "3                                             Goteras           Omar Montes   \n",
      "4                                 Duro De Verdad pt.2          Los Sufridos   \n",
      "5                                 Muriendo De Envidia            C. Tangana   \n",
      "6                                           Hong Kong            C. Tangana   \n",
      "7                                 Ya No Te Hago Falta             Sen Senra   \n",
      "8                                               De Ti             Sen Senra   \n",
      "9                                        Como Camarón                Estopa   \n",
      "10                                              Tank!             SEATBELTS   \n",
      "11                                Scotty Doesn't Know                Lustra   \n",
      "12                                  Uno De Eses Gatos             Sen Senra   \n",
      "13                                          So payaso           Extremoduro   \n",
      "14                                           Libertad                Kase.O   \n",
      "15                                     Into Yesterday             Sugar Ray   \n",
      "16                                   OH! TENGO SUERTE    Masayoshi Takanaka   \n",
      "17                                       Oh Qué Será?          Willie Colón   \n",
      "18                                         Los Tontos            C. Tangana   \n",
      "19                                          Teknocity             Parkineos   \n",
      "20                                      Ma quale idea          Pino D'Angiò   \n",
      "21                                         Black Hole           John Pollõn   \n",
      "22                                           Cantando  Violadores Del Verso   \n",
      "23                            Dolores se llamaba Lola            Los Suaves   \n",
      "24                                         YO LO SOÑÉ                 SAIKO   \n",
      "25                                           NUEVAYoL             Bad Bunny   \n",
      "26                                  CARTIER DE MADERA           Cruz Cafuné   \n",
      "27                                 Todo se transforma         Jorge Drexler   \n",
      "28                                   You're Beautiful           James Blunt   \n",
      "29                               EL PANTALON - RUMBAS           Omar Montes   \n",
      "30                                         Chop Suey!      System Of A Down   \n",
      "31                                            EL CLúB             Bad Bunny   \n",
      "32                               Ese Vato No Te Queda            Carin Leon   \n",
      "33                                        Not Like Us        Kendrick Lamar   \n",
      "34           Dire, Dire Docks (From \"Super Mario 64\")                  Qumu   \n",
      "35                                   Como el Sol 2011                Kase.O   \n",
      "36                                         HAY LUPITA               Lomiiel   \n",
      "37                                             Fusión         Jorge Drexler   \n",
      "38                           En El Muelle de San Blas                  Maná   \n",
      "39                                            Riptide             Vance Joy   \n",
      "40                                          Le Festin               Camille   \n",
      "41                                             FARDOS              JC Reyes   \n",
      "42                                           Lollypop              Kidd Keo   \n",
      "43                                  Tu No Metes Cabra             Bad Bunny   \n",
      "44                                           Stand By           Extremoduro   \n",
      "45                                         Embrace It                 Ndotz   \n",
      "46                                            Nominao            C. Tangana   \n",
      "47                                     MÁQUINA CULONA          Ralphie Choo   \n",
      "48  Our Last Summer - From 'Mamma Mia!' Original M...           Colin Firth   \n",
      "49                                 Kickstart My Heart           Mötley Crüe   \n",
      "\n",
      "    popularity  release_year  \\\n",
      "0           62          1999   \n",
      "1           55          2021   \n",
      "2           95          2025   \n",
      "3           67          2024   \n",
      "4           72          2024   \n",
      "5           56          2021   \n",
      "6           52          2021   \n",
      "7           70          2019   \n",
      "8           42          2021   \n",
      "9           67          1999   \n",
      "10          37          1998   \n",
      "11          76          2006   \n",
      "12          53          2023   \n",
      "13          61          1996   \n",
      "14          42          2011   \n",
      "15          56          2007   \n",
      "16          58          1976   \n",
      "17          71          2008   \n",
      "18          59          2021   \n",
      "19          53          2023   \n",
      "20          62          2011   \n",
      "21          56          2021   \n",
      "22          54          2006   \n",
      "23          50          1988   \n",
      "24          57          2024   \n",
      "25          94          2025   \n",
      "26          43          2020   \n",
      "27          61          2005   \n",
      "28          57          2004   \n",
      "29          58          2024   \n",
      "30          83          2001   \n",
      "31          86          2025   \n",
      "32          82          2024   \n",
      "33          96          2024   \n",
      "34          32          2021   \n",
      "35          47          2011   \n",
      "36          76          2024   \n",
      "37          39          2005   \n",
      "38          74          1997   \n",
      "39          82          2014   \n",
      "40          10          2007   \n",
      "41          68          2024   \n",
      "42          58          2017   \n",
      "43          65          2017   \n",
      "44          61          2002   \n",
      "45          81          2024   \n",
      "46          55          2021   \n",
      "47          44          2023   \n",
      "48          66          2008   \n",
      "49          57          2000   \n",
      "\n",
      "                                               genres  \n",
      "0             [trova, singer-songwriter, nueva trova]  \n",
      "1                                          [No Genre]  \n",
      "2      [reggaeton, trap latino, latin, urbano latino]  \n",
      "3           [flamenco, flamenco urbano, flamenco pop]  \n",
      "4                                          [No Genre]  \n",
      "5                                          [flamenco]  \n",
      "6                                          [flamenco]  \n",
      "7                                          [No Genre]  \n",
      "8                                          [No Genre]  \n",
      "9                            [flamenco, flamenco pop]  \n",
      "10                                     [bebop, anime]  \n",
      "11                                         [No Genre]  \n",
      "12                                         [No Genre]  \n",
      "13                                         [No Genre]  \n",
      "14                                    [latin hip hop]  \n",
      "15                                         [No Genre]  \n",
      "16                 [jazz fusion, city pop, jazz funk]  \n",
      "17     [salsa, salsa romantica, merengue, son cubano]  \n",
      "18                                         [flamenco]  \n",
      "19         [tekno, techno, hardcore techno, hardcore]  \n",
      "20                         [italo disco, italo dance]  \n",
      "21                                         [No Genre]  \n",
      "22                                    [latin hip hop]  \n",
      "23                                      [rock urbano]  \n",
      "24                                         [No Genre]  \n",
      "25     [reggaeton, trap latino, latin, urbano latino]  \n",
      "26                                         [No Genre]  \n",
      "27  [trova, singer-songwriter, nueva trova, latin ...  \n",
      "28                                         [No Genre]  \n",
      "29          [flamenco, flamenco urbano, flamenco pop]  \n",
      "30  [nu metal, metal, alternative metal, rap metal...  \n",
      "31     [reggaeton, trap latino, latin, urbano latino]  \n",
      "32  [banda, norteño, sierreño, corrido, grupera, r...  \n",
      "33                      [hip hop, west coast hip hop]  \n",
      "34                                         [No Genre]  \n",
      "35                                    [latin hip hop]  \n",
      "36                                           [dembow]  \n",
      "37  [trova, singer-songwriter, nueva trova, latin ...  \n",
      "38  [rock en español, latin rock, mexican rock, la...  \n",
      "39                                         [folk pop]  \n",
      "40                                      [french jazz]  \n",
      "41                                  [flamenco urbano]  \n",
      "42                             [trap, argentine trap]  \n",
      "43     [reggaeton, trap latino, latin, urbano latino]  \n",
      "44                                         [No Genre]  \n",
      "45                                         [No Genre]  \n",
      "46                                         [flamenco]  \n",
      "47                                         [No Genre]  \n",
      "48                                         [musicals]  \n",
      "49                 [glam metal, hard rock, glam rock]  \n"
     ]
    }
   ],
   "source": [
    "# Obtener los 50 artistas más escuchados\n",
    "top_artists = get_top_artists(sp, 50)\n",
    "\n",
    "# Obtener las 50 canciones más escuchadas\n",
    "top_tracks = get_top_tracks(sp, limit=50)\n",
    "\n",
    "# Preparamos las características para cada canción\n",
    "track_data = []\n",
    "for track in top_tracks['items']:\n",
    "    # Primero, obtenemos la información del artista de la canción\n",
    "    artist = track['artists'][0]\n",
    "    artist_name = artist['name']\n",
    "    \n",
    "    # Obtenemos los géneros del artista realizando una consulta adicional\n",
    "    artist_info = sp.artist(artist['id'])  # Esto obtiene información detallada del artista\n",
    "    genres = artist_info.get('genres', [])  # Extraemos los géneros, si existen\n",
    "\n",
    "    # Ahora podemos preparar la información de la canción\n",
    "    track_info = {\n",
    "        'name': track['name'],\n",
    "        'artist': artist_name,\n",
    "        'popularity': track['popularity'],\n",
    "        'release_year': int(track['album']['release_date'][:4]),\n",
    "        'genres': genres if genres else ['No Genre'],  # Asignamos un valor predeterminado si no hay géneros\n",
    "        # Otros datos que desees extraer\n",
    "    }\n",
    "    track_data.append(track_info)\n",
    "\n",
    "# Convertir a DataFrame de Pandas\n",
    "track_df = pd.DataFrame(track_data)\n",
    "\n",
    "# Mostrar el DataFrame\n",
    "print(track_df)"
   ]
  },
  {
   "cell_type": "code",
   "execution_count": 26,
   "id": "f16577b1",
   "metadata": {},
   "outputs": [],
   "source": [
    "# Supongamos que tenemos un mecanismo para definir si te gustó una canción o no\n",
    "track_df['liked'] = track_df['popularity'].apply(lambda x: 1 if x > 70 else 0)  # Ejemplo\n",
    "\n",
    "# Convertir los géneros en variables dummy (OneHotEncoding)\n",
    "# Primero verificamos si la columna 'genres' existe\n",
    "if 'genres' in track_df.columns:\n",
    "    track_df = track_df.join(track_df['genres'].str.join('|').str.get_dummies())\n",
    "    \n",
    "    # Eliminar la columna de géneros originales\n",
    "    track_df.drop('genres', axis=1, inplace=True)\n",
    "\n",
    "# Convertir la columna de 'artist' a valores numéricos (Label Encoding)\n",
    "label_encoder = LabelEncoder()\n",
    "track_df['artist'] = label_encoder.fit_transform(track_df['artist'])\n",
    "\n",
    "# Eliminar la columna 'name' ya que no es útil para el modelo\n",
    "track_df.drop('name', axis=1, inplace=True)"
   ]
  },
  {
   "cell_type": "code",
   "execution_count": 27,
   "id": "c8eabf7c",
   "metadata": {},
   "outputs": [
    {
     "name": "stdout",
     "output_type": "stream",
     "text": [
      "Precisión del modelo: 90.00%\n",
      "Probabilidad de que te guste la canción: 3.00%\n"
     ]
    }
   ],
   "source": [
    "# Dividir los datos en entrenamiento y prueba\n",
    "X = track_df.drop('liked', axis=1)  # Características (sin la columna 'liked')\n",
    "y = track_df['liked']  # La etiqueta 'liked' es lo que queremos predecir\n",
    "\n",
    "X_train, X_test, y_train, y_test = train_test_split(X, y, test_size=0.2, random_state=42)\n",
    "\n",
    "# Crear y entrenar el modelo (Random Forest)\n",
    "model = RandomForestClassifier(n_estimators=100, random_state=42)\n",
    "model.fit(X_train, y_train)\n",
    "\n",
    "# Hacer predicciones\n",
    "y_pred = model.predict(X_test)\n",
    "\n",
    "# Calcular la precisión del modelo\n",
    "accuracy = accuracy_score(y_test, y_pred)\n",
    "print(f\"Precisión del modelo: {accuracy * 100:.2f}%\")\n",
    "\n",
    "# Predecir la probabilidad de que te guste una canción\n",
    "probabilidad = model.predict_proba(X_test)\n",
    "\n",
    "# Mostrar el porcentaje de probabilidad de que la canción te guste\n",
    "# La columna 1 representa la probabilidad de que la canción te guste (etiqueta '1')\n",
    "probabilidad_te_guste = probabilidad[:, 1]\n",
    "print(f\"Probabilidad de que te guste la canción: {probabilidad_te_guste[0] * 100:.2f}%\")"
   ]
  }
 ],
 "metadata": {
  "kernelspec": {
   "display_name": "venv",
   "language": "python",
   "name": "python3"
  },
  "language_info": {
   "codemirror_mode": {
    "name": "ipython",
    "version": 3
   },
   "file_extension": ".py",
   "mimetype": "text/x-python",
   "name": "python",
   "nbconvert_exporter": "python",
   "pygments_lexer": "ipython3",
   "version": "3.13.1"
  }
 },
 "nbformat": 4,
 "nbformat_minor": 5
}

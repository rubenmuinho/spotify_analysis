{
 "cells": [
  {
   "cell_type": "code",
   "execution_count": 2,
   "metadata": {},
   "outputs": [
    {
     "name": "stdout",
     "output_type": "stream",
     "text": [
      "¡Entorno listo para Spotify Wrapped!\n"
     ]
    }
   ],
   "source": [
    "import spotipy\n",
    "import pandas as pd\n",
    "import numpy as np\n",
    "import matplotlib.pyplot as plt\n",
    "import seaborn as sns\n",
    "import os\n",
    "from spotipy.oauth2 import SpotifyOAuth\n",
    "from main_functions import *\n",
    "\n",
    "#Librerías de IA\n",
    "from sklearn.model_selection import train_test_split\n",
    "from sklearn.ensemble import RandomForestClassifier\n",
    "from sklearn.metrics import accuracy_score\n",
    "from sklearn.preprocessing import OneHotEncoder\n",
    "from sklearn.preprocessing import LabelEncoder\n",
    "\n",
    "plt.rcParams['font.family'] = 'DejaVu Sans'\n",
    "\n",
    "print(\"¡Entorno listo para Spotify Wrapped!\")"
   ]
  },
  {
   "cell_type": "code",
   "execution_count": 3,
   "metadata": {},
   "outputs": [
    {
     "name": "stdout",
     "output_type": "stream",
     "text": [
      "¡Autenticado como: rubmuiper!\n"
     ]
    }
   ],
   "source": [
    "sp = authenticate_spotify()"
   ]
  },
  {
   "cell_type": "markdown",
   "metadata": {},
   "source": [
    "IA QUE PREDICE SI TE GUSTARÁ UNA CANCIÓN O NO"
   ]
  },
  {
   "cell_type": "code",
   "execution_count": 4,
   "metadata": {},
   "outputs": [
    {
     "name": "stderr",
     "output_type": "stream",
     "text": [
      "HTTP Error for GET to https://api.spotify.com/v1/audio-features/?ids=6V78ktWCGcJIIB5DPJBoPn,6GAWfJCEiQZoRtVFaoxscP,2lTm559tuIvatlT1u0JYG2,0glj70T9fN3kyJzYmTKzy1,4sykJxUsqdXZRqRv1J9fEQ,740uwCK09xVPNPr4hFpcWW,4kD4ZzJ1rZIVfJ9qw85CVT,4RIi1gNmKDzSH04Vvws2DK,1G4blOR671oPTfalkEIabL,1VB4sadHjFcFklHcZuoROi,2VqRxxZFbC0uZaTJcZY36c,1LkoYGxmYpO6QSEvY5C0Zl,7yG955s3KEoDrJkx5qa3WY,5HSpMRUC4m3L3q48to2Kmu,57yJ604s8wEXyjkqPsZdKC,02TQFXm2cV6uwOr2OmlYBC,50f0mt35cIwwu3Krk7nS7b,4DoEHKWh8k6vYDleECQkJx,4cNjqISTUuWTSE97Wed8i0,0isjtJAFQqeerWeecGmc1u,2n1MTLCis6qPSDKdr5XSDI,5kQb5n1sMy5CmYTSoB5p6M,5TFD2bmFKGhoCRbX61nXY5,21tInnYsayOXYnoItATry9,4YEU9N2XAE0DfUwxWI5ijA,3vsNteZn6E5qBSSBO78W7b,0iKo4pNNjHHdKUcFARlfCa,4Ndjd6DhKIC5IPoBIrMQuX,6AI3ezQ4o3HUoP6Dhudph3,7E4qUlNYocWix5FKBdw5CN,7ohh8e8FxH6JuVomNSrZmS,3NkIrWA31m4VO4Z9BW61yo,7obc42ol4tvhEKFteAVemA,0mvocLIWUnT10znvIXwHGr,7CsOowK8aWlxgjuZLW7pXA,2Fi6RtngvStwsjskvwabVT,2uXlHCUbq9OMUwx3hrk06o,4Jx56iDETiOYzYSgW1CcmM,5Y1aFwjwTTojIQe3gaWDLr,68qjM8nSoUj8YQOJuu6hZ8,74eICpWmMuVmBtaOr3YqPN,33VIvWmmCUgix6Htm1WdOJ,3EskUzVHawZYf1q6tYlaRv,6BxCmy6vGbuOckxg6YfQOW,5SkiVFWCP3NPEgNk3PaL2I,5aCmvEtoqJvkuoHMaExANL,5AIwfXYjGkWCs4KeeTk2Rq,7bFmXanwZQm6BMV9Nka6Hk,2hYFCMj1OmXA6Zq5HxVlQG,386RUes7n1uM1yfzgeUuwp with Params: {} returned 403 due to None\n"
     ]
    },
    {
     "name": "stdout",
     "output_type": "stream",
     "text": [
      "Error al obtener características acústicas: http status: 403, code: -1 - https://api.spotify.com/v1/audio-features/?ids=6V78ktWCGcJIIB5DPJBoPn,6GAWfJCEiQZoRtVFaoxscP,2lTm559tuIvatlT1u0JYG2,0glj70T9fN3kyJzYmTKzy1,4sykJxUsqdXZRqRv1J9fEQ,740uwCK09xVPNPr4hFpcWW,4kD4ZzJ1rZIVfJ9qw85CVT,4RIi1gNmKDzSH04Vvws2DK,1G4blOR671oPTfalkEIabL,1VB4sadHjFcFklHcZuoROi,2VqRxxZFbC0uZaTJcZY36c,1LkoYGxmYpO6QSEvY5C0Zl,7yG955s3KEoDrJkx5qa3WY,5HSpMRUC4m3L3q48to2Kmu,57yJ604s8wEXyjkqPsZdKC,02TQFXm2cV6uwOr2OmlYBC,50f0mt35cIwwu3Krk7nS7b,4DoEHKWh8k6vYDleECQkJx,4cNjqISTUuWTSE97Wed8i0,0isjtJAFQqeerWeecGmc1u,2n1MTLCis6qPSDKdr5XSDI,5kQb5n1sMy5CmYTSoB5p6M,5TFD2bmFKGhoCRbX61nXY5,21tInnYsayOXYnoItATry9,4YEU9N2XAE0DfUwxWI5ijA,3vsNteZn6E5qBSSBO78W7b,0iKo4pNNjHHdKUcFARlfCa,4Ndjd6DhKIC5IPoBIrMQuX,6AI3ezQ4o3HUoP6Dhudph3,7E4qUlNYocWix5FKBdw5CN,7ohh8e8FxH6JuVomNSrZmS,3NkIrWA31m4VO4Z9BW61yo,7obc42ol4tvhEKFteAVemA,0mvocLIWUnT10znvIXwHGr,7CsOowK8aWlxgjuZLW7pXA,2Fi6RtngvStwsjskvwabVT,2uXlHCUbq9OMUwx3hrk06o,4Jx56iDETiOYzYSgW1CcmM,5Y1aFwjwTTojIQe3gaWDLr,68qjM8nSoUj8YQOJuu6hZ8,74eICpWmMuVmBtaOr3YqPN,33VIvWmmCUgix6Htm1WdOJ,3EskUzVHawZYf1q6tYlaRv,6BxCmy6vGbuOckxg6YfQOW,5SkiVFWCP3NPEgNk3PaL2I,5aCmvEtoqJvkuoHMaExANL,5AIwfXYjGkWCs4KeeTk2Rq,7bFmXanwZQm6BMV9Nka6Hk,2hYFCMj1OmXA6Zq5HxVlQG,386RUes7n1uM1yfzgeUuwp:\n",
      " None, reason: None\n",
      "No se obtuvieron características acústicas para las canciones.\n"
     ]
    }
   ],
   "source": [
    "top_tracks = sp.current_user_top_tracks(limit=50)  # Obtiene las 50 canciones más escuchadas\n",
    "track_ids = [track['id'] for track in top_tracks['items']]  # Lista de IDs de las canciones\n",
    "\n",
    "# Obtener las características acústicas de todas las canciones de una sola vez\n",
    "try:\n",
    "    track_features = sp.audio_features(track_ids)  # Obtener características de múltiples canciones\n",
    "    if not track_features:\n",
    "        print(\"No se pudieron obtener las características acústicas.\")\n",
    "except spotipy.exceptions.SpotifyException as e:\n",
    "    print(f\"Error al obtener características acústicas: {e}\")\n",
    "    track_features = None\n",
    "\n",
    "# Procesar las características de cada canción\n",
    "if track_features:\n",
    "    track_data = []\n",
    "    for idx, track in enumerate(top_tracks['items']):\n",
    "        track_info = track_features[idx]\n",
    "        track_data.append({\n",
    "            'name': track['name'],\n",
    "            'artist': track['artists'][0]['name'],\n",
    "            'popularity': track['popularity'],\n",
    "            'tempo': track_info['tempo'],\n",
    "            'energy': track_info['energy'],\n",
    "            'danceability': track_info['danceability'],\n",
    "            'valence': track_info['valence'],\n",
    "            'loudness': track_info['loudness'],\n",
    "            'release_year': int(track['album']['release_date'][:4]),\n",
    "        })\n",
    "\n",
    "    # Crear un DataFrame con las características de las canciones más escuchadas\n",
    "    track_df = pd.DataFrame(track_data)\n",
    "    print(track_df)\n",
    "else:\n",
    "    print(\"No se obtuvieron características acústicas para las canciones.\")"
   ]
  },
  {
   "cell_type": "code",
   "execution_count": 5,
   "metadata": {},
   "outputs": [
    {
     "name": "stderr",
     "output_type": "stream",
     "text": [
      "HTTP Error for GET to https://api.spotify.com/v1/audio-features/?ids=7qiZfU4dY1lWllzX7mPBI3 with Params: {} returned 403 due to None\n"
     ]
    },
    {
     "ename": "SpotifyException",
     "evalue": "http status: 403, code: -1 - https://api.spotify.com/v1/audio-features/?ids=7qiZfU4dY1lWllzX7mPBI3:\n None, reason: None",
     "output_type": "error",
     "traceback": [
      "\u001b[31m---------------------------------------------------------------------------\u001b[39m",
      "\u001b[31mHTTPError\u001b[39m                                 Traceback (most recent call last)",
      "\u001b[36mFile \u001b[39m\u001b[32md:\\PROGRAMACION\\Spotify\\venv\\Lib\\site-packages\\spotipy\\client.py:274\u001b[39m, in \u001b[36mSpotify._internal_call\u001b[39m\u001b[34m(self, method, url, payload, params)\u001b[39m\n\u001b[32m    269\u001b[39m response = \u001b[38;5;28mself\u001b[39m._session.request(\n\u001b[32m    270\u001b[39m     method, url, headers=headers, proxies=\u001b[38;5;28mself\u001b[39m.proxies,\n\u001b[32m    271\u001b[39m     timeout=\u001b[38;5;28mself\u001b[39m.requests_timeout, **args\n\u001b[32m    272\u001b[39m )\n\u001b[32m--> \u001b[39m\u001b[32m274\u001b[39m \u001b[43mresponse\u001b[49m\u001b[43m.\u001b[49m\u001b[43mraise_for_status\u001b[49m\u001b[43m(\u001b[49m\u001b[43m)\u001b[49m\n\u001b[32m    275\u001b[39m results = response.json()\n",
      "\u001b[36mFile \u001b[39m\u001b[32md:\\PROGRAMACION\\Spotify\\venv\\Lib\\site-packages\\requests\\models.py:1024\u001b[39m, in \u001b[36mResponse.raise_for_status\u001b[39m\u001b[34m(self)\u001b[39m\n\u001b[32m   1023\u001b[39m \u001b[38;5;28;01mif\u001b[39;00m http_error_msg:\n\u001b[32m-> \u001b[39m\u001b[32m1024\u001b[39m     \u001b[38;5;28;01mraise\u001b[39;00m HTTPError(http_error_msg, response=\u001b[38;5;28mself\u001b[39m)\n",
      "\u001b[31mHTTPError\u001b[39m: 403 Client Error: Forbidden for url: https://api.spotify.com/v1/audio-features/?ids=7qiZfU4dY1lWllzX7mPBI3",
      "\nDuring handling of the above exception, another exception occurred:\n",
      "\u001b[31mSpotifyException\u001b[39m                          Traceback (most recent call last)",
      "\u001b[36mCell\u001b[39m\u001b[36m \u001b[39m\u001b[32mIn[5]\u001b[39m\u001b[32m, line 7\u001b[39m\n\u001b[32m      5\u001b[39m track_info = result[\u001b[33m'\u001b[39m\u001b[33mtracks\u001b[39m\u001b[33m'\u001b[39m][\u001b[33m'\u001b[39m\u001b[33mitems\u001b[39m\u001b[33m'\u001b[39m][\u001b[32m0\u001b[39m]\n\u001b[32m      6\u001b[39m track_id = track_info[\u001b[33m'\u001b[39m\u001b[33mid\u001b[39m\u001b[33m'\u001b[39m]\n\u001b[32m----> \u001b[39m\u001b[32m7\u001b[39m audio_features = \u001b[43msp\u001b[49m\u001b[43m.\u001b[49m\u001b[43maudio_features\u001b[49m\u001b[43m(\u001b[49m\u001b[43mtrack_id\u001b[49m\u001b[43m)\u001b[49m[\u001b[32m0\u001b[39m]\n\u001b[32m      9\u001b[39m new_song_features = {\n\u001b[32m     10\u001b[39m     \u001b[33m'\u001b[39m\u001b[33mtempo\u001b[39m\u001b[33m'\u001b[39m: audio_features[\u001b[33m'\u001b[39m\u001b[33mtempo\u001b[39m\u001b[33m'\u001b[39m],\n\u001b[32m     11\u001b[39m     \u001b[33m'\u001b[39m\u001b[33menergy\u001b[39m\u001b[33m'\u001b[39m: audio_features[\u001b[33m'\u001b[39m\u001b[33menergy\u001b[39m\u001b[33m'\u001b[39m],\n\u001b[32m   (...)\u001b[39m\u001b[32m     15\u001b[39m     \u001b[33m'\u001b[39m\u001b[33mrelease_year\u001b[39m\u001b[33m'\u001b[39m: \u001b[38;5;28mint\u001b[39m(track_info[\u001b[33m'\u001b[39m\u001b[33malbum\u001b[39m\u001b[33m'\u001b[39m][\u001b[33m'\u001b[39m\u001b[33mrelease_date\u001b[39m\u001b[33m'\u001b[39m][:\u001b[32m4\u001b[39m]),\n\u001b[32m     16\u001b[39m }\n\u001b[32m     18\u001b[39m \u001b[38;5;66;03m# Convertir a DataFrame y predecir\u001b[39;00m\n",
      "\u001b[36mFile \u001b[39m\u001b[32md:\\PROGRAMACION\\Spotify\\venv\\Lib\\site-packages\\spotipy\\client.py:1799\u001b[39m, in \u001b[36mSpotify.audio_features\u001b[39m\u001b[34m(self, tracks)\u001b[39m\n\u001b[32m   1797\u001b[39m \u001b[38;5;28;01mif\u001b[39;00m \u001b[38;5;28misinstance\u001b[39m(tracks, \u001b[38;5;28mstr\u001b[39m):\n\u001b[32m   1798\u001b[39m     trackid = \u001b[38;5;28mself\u001b[39m._get_id(\u001b[33m\"\u001b[39m\u001b[33mtrack\u001b[39m\u001b[33m\"\u001b[39m, tracks)\n\u001b[32m-> \u001b[39m\u001b[32m1799\u001b[39m     results = \u001b[38;5;28;43mself\u001b[39;49m\u001b[43m.\u001b[49m\u001b[43m_get\u001b[49m\u001b[43m(\u001b[49m\u001b[33;43m\"\u001b[39;49m\u001b[33;43maudio-features/?ids=\u001b[39;49m\u001b[33;43m\"\u001b[39;49m\u001b[43m \u001b[49m\u001b[43m+\u001b[49m\u001b[43m \u001b[49m\u001b[43mtrackid\u001b[49m\u001b[43m)\u001b[49m\n\u001b[32m   1800\u001b[39m \u001b[38;5;28;01melse\u001b[39;00m:\n\u001b[32m   1801\u001b[39m     tlist = [\u001b[38;5;28mself\u001b[39m._get_id(\u001b[33m\"\u001b[39m\u001b[33mtrack\u001b[39m\u001b[33m\"\u001b[39m, t) \u001b[38;5;28;01mfor\u001b[39;00m t \u001b[38;5;129;01min\u001b[39;00m tracks]\n",
      "\u001b[36mFile \u001b[39m\u001b[32md:\\PROGRAMACION\\Spotify\\venv\\Lib\\site-packages\\spotipy\\client.py:324\u001b[39m, in \u001b[36mSpotify._get\u001b[39m\u001b[34m(self, url, args, payload, **kwargs)\u001b[39m\n\u001b[32m    321\u001b[39m \u001b[38;5;28;01mif\u001b[39;00m args:\n\u001b[32m    322\u001b[39m     kwargs.update(args)\n\u001b[32m--> \u001b[39m\u001b[32m324\u001b[39m \u001b[38;5;28;01mreturn\u001b[39;00m \u001b[38;5;28;43mself\u001b[39;49m\u001b[43m.\u001b[49m\u001b[43m_internal_call\u001b[49m\u001b[43m(\u001b[49m\u001b[33;43m\"\u001b[39;49m\u001b[33;43mGET\u001b[39;49m\u001b[33;43m\"\u001b[39;49m\u001b[43m,\u001b[49m\u001b[43m \u001b[49m\u001b[43murl\u001b[49m\u001b[43m,\u001b[49m\u001b[43m \u001b[49m\u001b[43mpayload\u001b[49m\u001b[43m,\u001b[49m\u001b[43m \u001b[49m\u001b[43mkwargs\u001b[49m\u001b[43m)\u001b[49m\n",
      "\u001b[36mFile \u001b[39m\u001b[32md:\\PROGRAMACION\\Spotify\\venv\\Lib\\site-packages\\spotipy\\client.py:294\u001b[39m, in \u001b[36mSpotify._internal_call\u001b[39m\u001b[34m(self, method, url, payload, params)\u001b[39m\n\u001b[32m    289\u001b[39m         reason = \u001b[38;5;28;01mNone\u001b[39;00m\n\u001b[32m    291\u001b[39m     logger.error(\u001b[33mf\u001b[39m\u001b[33m\"\u001b[39m\u001b[33mHTTP Error for \u001b[39m\u001b[38;5;132;01m{\u001b[39;00mmethod\u001b[38;5;132;01m}\u001b[39;00m\u001b[33m to \u001b[39m\u001b[38;5;132;01m{\u001b[39;00murl\u001b[38;5;132;01m}\u001b[39;00m\u001b[33m with Params: \u001b[39m\u001b[33m\"\u001b[39m\n\u001b[32m    292\u001b[39m                  \u001b[33mf\u001b[39m\u001b[33m\"\u001b[39m\u001b[38;5;132;01m{\u001b[39;00margs.get(\u001b[33m'\u001b[39m\u001b[33mparams\u001b[39m\u001b[33m'\u001b[39m)\u001b[38;5;132;01m}\u001b[39;00m\u001b[33m returned \u001b[39m\u001b[38;5;132;01m{\u001b[39;00mresponse.status_code\u001b[38;5;132;01m}\u001b[39;00m\u001b[33m due to \u001b[39m\u001b[38;5;132;01m{\u001b[39;00mmsg\u001b[38;5;132;01m}\u001b[39;00m\u001b[33m\"\u001b[39m)\n\u001b[32m--> \u001b[39m\u001b[32m294\u001b[39m     \u001b[38;5;28;01mraise\u001b[39;00m SpotifyException(\n\u001b[32m    295\u001b[39m         response.status_code,\n\u001b[32m    296\u001b[39m         -\u001b[32m1\u001b[39m,\n\u001b[32m    297\u001b[39m         \u001b[33mf\u001b[39m\u001b[33m\"\u001b[39m\u001b[38;5;132;01m{\u001b[39;00mresponse.url\u001b[38;5;132;01m}\u001b[39;00m\u001b[33m:\u001b[39m\u001b[38;5;130;01m\\n\u001b[39;00m\u001b[33m \u001b[39m\u001b[38;5;132;01m{\u001b[39;00mmsg\u001b[38;5;132;01m}\u001b[39;00m\u001b[33m\"\u001b[39m,\n\u001b[32m    298\u001b[39m         reason=reason,\n\u001b[32m    299\u001b[39m         headers=response.headers,\n\u001b[32m    300\u001b[39m     )\n\u001b[32m    301\u001b[39m \u001b[38;5;28;01mexcept\u001b[39;00m requests.exceptions.RetryError \u001b[38;5;28;01mas\u001b[39;00m retry_error:\n\u001b[32m    302\u001b[39m     request = retry_error.request\n",
      "\u001b[31mSpotifyException\u001b[39m: http status: 403, code: -1 - https://api.spotify.com/v1/audio-features/?ids=7qiZfU4dY1lWllzX7mPBI3:\n None, reason: None"
     ]
    }
   ],
   "source": [
    "# Obtiene características acústicas de una canción específica\n",
    "song_name = \"Shape of You\"  # Ejemplo de nombre de canción\n",
    "result = sp.search(song_name, limit=1)  # Busca la canción por nombre\n",
    "\n",
    "track_info = result['tracks']['items'][0]\n",
    "track_id = track_info['id']\n",
    "audio_features = sp.audio_features(track_id)[0]\n",
    "\n",
    "new_song_features = {\n",
    "    'tempo': audio_features['tempo'],\n",
    "    'energy': audio_features['energy'],\n",
    "    'danceability': audio_features['danceability'],\n",
    "    'valence': audio_features['valence'],\n",
    "    'loudness': audio_features['loudness'],\n",
    "    'release_year': int(track_info['album']['release_date'][:4]),\n",
    "}\n",
    "\n",
    "# Convertir a DataFrame y predecir\n",
    "new_song_df = pd.DataFrame([new_song_features])\n",
    "predicted_liked = model.predict(new_song_df)\n",
    "\n",
    "# Mostrar probabilidad de que te guste\n",
    "predicted_probability = model.predict_proba(new_song_df)[:, 1]\n",
    "print(f\"Probabilidad de que te guste '{song_name}': {predicted_probability[0] * 100:.2f}%\")\n"
   ]
  },
  {
   "cell_type": "code",
   "execution_count": null,
   "metadata": {},
   "outputs": [],
   "source": [
    "# Procesa los datos: crea la columna 'liked', convierte géneros a variables dummy, \n",
    "# realiza Label Encoding para 'artist' y elimina columnas no necesarias.\n",
    "\n",
    "track_df['liked'] = track_df['popularity'].apply(lambda x: 1 if x > 70 else 0)\n",
    "\n",
    "if 'genres' in track_df.columns:\n",
    "    track_df = track_df.join(track_df['genres'].str.join('|').str.get_dummies())\n",
    "    track_df.drop('genres', axis=1, inplace=True)\n",
    "\n",
    "label_encoder = LabelEncoder()\n",
    "track_df['artist'] = label_encoder.fit_transform(track_df['artist'])\n",
    "\n",
    "track_df.drop('name', axis=1, inplace=True)"
   ]
  },
  {
   "cell_type": "code",
   "execution_count": null,
   "metadata": {},
   "outputs": [],
   "source": [
    "# Entrena un modelo de Random Forest para predecir si te gusta una canción y calcula la precisión.\n",
    "\n",
    "X = track_df.drop('liked', axis=1)\n",
    "y = track_df['liked']\n",
    "\n",
    "X_train, X_test, y_train, y_test = train_test_split(X, y, test_size=0.2, random_state=42)\n",
    "\n",
    "model = RandomForestClassifier(n_estimators=100, random_state=42)\n",
    "model.fit(X_train, y_train)\n",
    "\n",
    "y_pred = model.predict(X_test)\n",
    "\n",
    "accuracy = accuracy_score(y_test, y_pred)\n",
    "print(f\"Precisión del modelo: {accuracy * 100:.2f}%\")\n",
    "\n",
    "probabilidad = model.predict_proba(X_test)\n",
    "\n",
    "probabilidad_te_guste = probabilidad[:, 1]\n",
    "print(f\"Probabilidad de que te guste la canción: {probabilidad_te_guste[0] * 100:.2f}%\")\n"
   ]
  }
 ],
 "metadata": {
  "kernelspec": {
   "display_name": "venv",
   "language": "python",
   "name": "python3"
  },
  "language_info": {
   "codemirror_mode": {
    "name": "ipython",
    "version": 3
   },
   "file_extension": ".py",
   "mimetype": "text/x-python",
   "name": "python",
   "nbconvert_exporter": "python",
   "pygments_lexer": "ipython3",
   "version": "3.13.1"
  }
 },
 "nbformat": 4,
 "nbformat_minor": 2
}

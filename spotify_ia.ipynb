{
 "cells": [
  {
   "cell_type": "code",
   "execution_count": 1,
   "metadata": {},
   "outputs": [
    {
     "name": "stdout",
     "output_type": "stream",
     "text": [
      "¡Entorno listo para Spotify Wrapped!\n"
     ]
    }
   ],
   "source": [
    "import spotipy\n",
    "import pandas as pd\n",
    "import numpy as np\n",
    "import matplotlib.pyplot as plt\n",
    "import seaborn as sns\n",
    "import os\n",
    "from spotipy.oauth2 import SpotifyOAuth\n",
    "from main_functions import *\n",
    "\n",
    "#Librerías de IA\n",
    "from sklearn.model_selection import train_test_split\n",
    "from sklearn.ensemble import RandomForestClassifier\n",
    "from sklearn.metrics import accuracy_score\n",
    "from sklearn.preprocessing import OneHotEncoder\n",
    "from sklearn.preprocessing import LabelEncoder\n",
    "\n",
    "plt.rcParams['font.family'] = 'DejaVu Sans'\n",
    "\n",
    "print(\"¡Entorno listo para Spotify Wrapped!\")"
   ]
  },
  {
   "cell_type": "code",
   "execution_count": 2,
   "metadata": {},
   "outputs": [
    {
     "name": "stdout",
     "output_type": "stream",
     "text": [
      "✅ Caché eliminada. Inicia sesión con una nueva cuenta.\n",
      "¡Autenticado como: rubmuiper!\n"
     ]
    }
   ],
   "source": [
    "sp = authenticate_spotify()"
   ]
  },
  {
   "cell_type": "markdown",
   "metadata": {},
   "source": [
    "IA QUE PREDICE SI TE GUSTARÁ UNA CANCIÓN O NO"
   ]
  },
  {
   "cell_type": "code",
   "execution_count": 6,
   "metadata": {},
   "outputs": [
    {
     "name": "stderr",
     "output_type": "stream",
     "text": [
      "HTTP Error for GET to https://api.spotify.com/v1/audio-features/?ids=6V78ktWCGcJIIB5DPJBoPn with Params: {} returned 403 due to None\n"
     ]
    },
    {
     "ename": "SpotifyException",
     "evalue": "http status: 403, code: -1 - https://api.spotify.com/v1/audio-features/?ids=6V78ktWCGcJIIB5DPJBoPn:\n None, reason: None",
     "output_type": "error",
     "traceback": [
      "\u001b[31m---------------------------------------------------------------------------\u001b[39m",
      "\u001b[31mHTTPError\u001b[39m                                 Traceback (most recent call last)",
      "\u001b[36mFile \u001b[39m\u001b[32md:\\PROGRAMACION\\Spotify\\venv\\Lib\\site-packages\\spotipy\\client.py:274\u001b[39m, in \u001b[36mSpotify._internal_call\u001b[39m\u001b[34m(self, method, url, payload, params)\u001b[39m\n\u001b[32m    269\u001b[39m response = \u001b[38;5;28mself\u001b[39m._session.request(\n\u001b[32m    270\u001b[39m     method, url, headers=headers, proxies=\u001b[38;5;28mself\u001b[39m.proxies,\n\u001b[32m    271\u001b[39m     timeout=\u001b[38;5;28mself\u001b[39m.requests_timeout, **args\n\u001b[32m    272\u001b[39m )\n\u001b[32m--> \u001b[39m\u001b[32m274\u001b[39m \u001b[43mresponse\u001b[49m\u001b[43m.\u001b[49m\u001b[43mraise_for_status\u001b[49m\u001b[43m(\u001b[49m\u001b[43m)\u001b[49m\n\u001b[32m    275\u001b[39m results = response.json()\n",
      "\u001b[36mFile \u001b[39m\u001b[32md:\\PROGRAMACION\\Spotify\\venv\\Lib\\site-packages\\requests\\models.py:1024\u001b[39m, in \u001b[36mResponse.raise_for_status\u001b[39m\u001b[34m(self)\u001b[39m\n\u001b[32m   1023\u001b[39m \u001b[38;5;28;01mif\u001b[39;00m http_error_msg:\n\u001b[32m-> \u001b[39m\u001b[32m1024\u001b[39m     \u001b[38;5;28;01mraise\u001b[39;00m HTTPError(http_error_msg, response=\u001b[38;5;28mself\u001b[39m)\n",
      "\u001b[31mHTTPError\u001b[39m: 403 Client Error: Forbidden for url: https://api.spotify.com/v1/audio-features/?ids=6V78ktWCGcJIIB5DPJBoPn",
      "\nDuring handling of the above exception, another exception occurred:\n",
      "\u001b[31mSpotifyException\u001b[39m                          Traceback (most recent call last)",
      "\u001b[36mCell\u001b[39m\u001b[36m \u001b[39m\u001b[32mIn[6]\u001b[39m\u001b[32m, line 5\u001b[39m\n\u001b[32m      3\u001b[39m track_features = []\n\u001b[32m      4\u001b[39m \u001b[38;5;28;01mfor\u001b[39;00m track \u001b[38;5;129;01min\u001b[39;00m top_tracks[\u001b[33m'\u001b[39m\u001b[33mitems\u001b[39m\u001b[33m'\u001b[39m]:\n\u001b[32m----> \u001b[39m\u001b[32m5\u001b[39m     track_info = \u001b[43msp\u001b[49m\u001b[43m.\u001b[49m\u001b[43maudio_features\u001b[49m\u001b[43m(\u001b[49m\u001b[43mtrack\u001b[49m\u001b[43m[\u001b[49m\u001b[33;43m'\u001b[39;49m\u001b[33;43mid\u001b[39;49m\u001b[33;43m'\u001b[39;49m\u001b[43m]\u001b[49m\u001b[43m)\u001b[49m[\u001b[32m0\u001b[39m]  \u001b[38;5;66;03m# Obtiene características acústicas de la canción\u001b[39;00m\n\u001b[32m      6\u001b[39m     track_data = {\n\u001b[32m      7\u001b[39m         \u001b[33m'\u001b[39m\u001b[33mname\u001b[39m\u001b[33m'\u001b[39m: track[\u001b[33m'\u001b[39m\u001b[33mname\u001b[39m\u001b[33m'\u001b[39m],\n\u001b[32m      8\u001b[39m         \u001b[33m'\u001b[39m\u001b[33martist\u001b[39m\u001b[33m'\u001b[39m: track[\u001b[33m'\u001b[39m\u001b[33martists\u001b[39m\u001b[33m'\u001b[39m][\u001b[32m0\u001b[39m][\u001b[33m'\u001b[39m\u001b[33mname\u001b[39m\u001b[33m'\u001b[39m],\n\u001b[32m   (...)\u001b[39m\u001b[32m     15\u001b[39m         \u001b[33m'\u001b[39m\u001b[33mrelease_year\u001b[39m\u001b[33m'\u001b[39m: \u001b[38;5;28mint\u001b[39m(track[\u001b[33m'\u001b[39m\u001b[33malbum\u001b[39m\u001b[33m'\u001b[39m][\u001b[33m'\u001b[39m\u001b[33mrelease_date\u001b[39m\u001b[33m'\u001b[39m][:\u001b[32m4\u001b[39m]),\n\u001b[32m     16\u001b[39m     }\n\u001b[32m     17\u001b[39m     track_features.append(track_data)\n",
      "\u001b[36mFile \u001b[39m\u001b[32md:\\PROGRAMACION\\Spotify\\venv\\Lib\\site-packages\\spotipy\\client.py:1799\u001b[39m, in \u001b[36mSpotify.audio_features\u001b[39m\u001b[34m(self, tracks)\u001b[39m\n\u001b[32m   1797\u001b[39m \u001b[38;5;28;01mif\u001b[39;00m \u001b[38;5;28misinstance\u001b[39m(tracks, \u001b[38;5;28mstr\u001b[39m):\n\u001b[32m   1798\u001b[39m     trackid = \u001b[38;5;28mself\u001b[39m._get_id(\u001b[33m\"\u001b[39m\u001b[33mtrack\u001b[39m\u001b[33m\"\u001b[39m, tracks)\n\u001b[32m-> \u001b[39m\u001b[32m1799\u001b[39m     results = \u001b[38;5;28;43mself\u001b[39;49m\u001b[43m.\u001b[49m\u001b[43m_get\u001b[49m\u001b[43m(\u001b[49m\u001b[33;43m\"\u001b[39;49m\u001b[33;43maudio-features/?ids=\u001b[39;49m\u001b[33;43m\"\u001b[39;49m\u001b[43m \u001b[49m\u001b[43m+\u001b[49m\u001b[43m \u001b[49m\u001b[43mtrackid\u001b[49m\u001b[43m)\u001b[49m\n\u001b[32m   1800\u001b[39m \u001b[38;5;28;01melse\u001b[39;00m:\n\u001b[32m   1801\u001b[39m     tlist = [\u001b[38;5;28mself\u001b[39m._get_id(\u001b[33m\"\u001b[39m\u001b[33mtrack\u001b[39m\u001b[33m\"\u001b[39m, t) \u001b[38;5;28;01mfor\u001b[39;00m t \u001b[38;5;129;01min\u001b[39;00m tracks]\n",
      "\u001b[36mFile \u001b[39m\u001b[32md:\\PROGRAMACION\\Spotify\\venv\\Lib\\site-packages\\spotipy\\client.py:324\u001b[39m, in \u001b[36mSpotify._get\u001b[39m\u001b[34m(self, url, args, payload, **kwargs)\u001b[39m\n\u001b[32m    321\u001b[39m \u001b[38;5;28;01mif\u001b[39;00m args:\n\u001b[32m    322\u001b[39m     kwargs.update(args)\n\u001b[32m--> \u001b[39m\u001b[32m324\u001b[39m \u001b[38;5;28;01mreturn\u001b[39;00m \u001b[38;5;28;43mself\u001b[39;49m\u001b[43m.\u001b[49m\u001b[43m_internal_call\u001b[49m\u001b[43m(\u001b[49m\u001b[33;43m\"\u001b[39;49m\u001b[33;43mGET\u001b[39;49m\u001b[33;43m\"\u001b[39;49m\u001b[43m,\u001b[49m\u001b[43m \u001b[49m\u001b[43murl\u001b[49m\u001b[43m,\u001b[49m\u001b[43m \u001b[49m\u001b[43mpayload\u001b[49m\u001b[43m,\u001b[49m\u001b[43m \u001b[49m\u001b[43mkwargs\u001b[49m\u001b[43m)\u001b[49m\n",
      "\u001b[36mFile \u001b[39m\u001b[32md:\\PROGRAMACION\\Spotify\\venv\\Lib\\site-packages\\spotipy\\client.py:294\u001b[39m, in \u001b[36mSpotify._internal_call\u001b[39m\u001b[34m(self, method, url, payload, params)\u001b[39m\n\u001b[32m    289\u001b[39m         reason = \u001b[38;5;28;01mNone\u001b[39;00m\n\u001b[32m    291\u001b[39m     logger.error(\u001b[33mf\u001b[39m\u001b[33m\"\u001b[39m\u001b[33mHTTP Error for \u001b[39m\u001b[38;5;132;01m{\u001b[39;00mmethod\u001b[38;5;132;01m}\u001b[39;00m\u001b[33m to \u001b[39m\u001b[38;5;132;01m{\u001b[39;00murl\u001b[38;5;132;01m}\u001b[39;00m\u001b[33m with Params: \u001b[39m\u001b[33m\"\u001b[39m\n\u001b[32m    292\u001b[39m                  \u001b[33mf\u001b[39m\u001b[33m\"\u001b[39m\u001b[38;5;132;01m{\u001b[39;00margs.get(\u001b[33m'\u001b[39m\u001b[33mparams\u001b[39m\u001b[33m'\u001b[39m)\u001b[38;5;132;01m}\u001b[39;00m\u001b[33m returned \u001b[39m\u001b[38;5;132;01m{\u001b[39;00mresponse.status_code\u001b[38;5;132;01m}\u001b[39;00m\u001b[33m due to \u001b[39m\u001b[38;5;132;01m{\u001b[39;00mmsg\u001b[38;5;132;01m}\u001b[39;00m\u001b[33m\"\u001b[39m)\n\u001b[32m--> \u001b[39m\u001b[32m294\u001b[39m     \u001b[38;5;28;01mraise\u001b[39;00m SpotifyException(\n\u001b[32m    295\u001b[39m         response.status_code,\n\u001b[32m    296\u001b[39m         -\u001b[32m1\u001b[39m,\n\u001b[32m    297\u001b[39m         \u001b[33mf\u001b[39m\u001b[33m\"\u001b[39m\u001b[38;5;132;01m{\u001b[39;00mresponse.url\u001b[38;5;132;01m}\u001b[39;00m\u001b[33m:\u001b[39m\u001b[38;5;130;01m\\n\u001b[39;00m\u001b[33m \u001b[39m\u001b[38;5;132;01m{\u001b[39;00mmsg\u001b[38;5;132;01m}\u001b[39;00m\u001b[33m\"\u001b[39m,\n\u001b[32m    298\u001b[39m         reason=reason,\n\u001b[32m    299\u001b[39m         headers=response.headers,\n\u001b[32m    300\u001b[39m     )\n\u001b[32m    301\u001b[39m \u001b[38;5;28;01mexcept\u001b[39;00m requests.exceptions.RetryError \u001b[38;5;28;01mas\u001b[39;00m retry_error:\n\u001b[32m    302\u001b[39m     request = retry_error.request\n",
      "\u001b[31mSpotifyException\u001b[39m: http status: 403, code: -1 - https://api.spotify.com/v1/audio-features/?ids=6V78ktWCGcJIIB5DPJBoPn:\n None, reason: None"
     ]
    }
   ],
   "source": [
    "top_tracks = get_top_tracks(sp, limit=50)  # Obtiene las 50 canciones más escuchadas\n",
    "\n",
    "track_features = []\n",
    "for track in top_tracks['items']:\n",
    "    track_info = sp.audio_features(track['id'])[0]  # Obtiene características acústicas de la canción\n",
    "    track_data = {\n",
    "        'name': track['name'],\n",
    "        'artist': track['artists'][0]['name'],\n",
    "        'popularity': track['popularity'],\n",
    "        'tempo': track_info['tempo'],\n",
    "        'energy': track_info['energy'],\n",
    "        'danceability': track_info['danceability'],\n",
    "        'valence': track_info['valence'],\n",
    "        'loudness': track_info['loudness'],\n",
    "        'release_year': int(track['album']['release_date'][:4]),\n",
    "    }\n",
    "    track_features.append(track_data)\n",
    "\n",
    "# Crear un DataFrame con las características de las canciones más escuchadas\n",
    "track_df = pd.DataFrame(track_features)"
   ]
  },
  {
   "cell_type": "code",
   "execution_count": null,
   "metadata": {},
   "outputs": [],
   "source": [
    "# Obtiene características acústicas de una canción específica\n",
    "song_name = \"Shape of You\"  # Ejemplo de nombre de canción\n",
    "result = sp.search(song_name, limit=1)  # Busca la canción por nombre\n",
    "\n",
    "track_info = result['tracks']['items'][0]\n",
    "track_id = track_info['id']\n",
    "audio_features = sp.audio_features(track_id)[0]\n",
    "\n",
    "new_song_features = {\n",
    "    'tempo': audio_features['tempo'],\n",
    "    'energy': audio_features['energy'],\n",
    "    'danceability': audio_features['danceability'],\n",
    "    'valence': audio_features['valence'],\n",
    "    'loudness': audio_features['loudness'],\n",
    "    'release_year': int(track_info['album']['release_date'][:4]),\n",
    "}\n",
    "\n",
    "# Convertir a DataFrame y predecir\n",
    "new_song_df = pd.DataFrame([new_song_features])\n",
    "predicted_liked = model.predict(new_song_df)\n",
    "\n",
    "# Mostrar probabilidad de que te guste\n",
    "predicted_probability = model.predict_proba(new_song_df)[:, 1]\n",
    "print(f\"Probabilidad de que te guste '{song_name}': {predicted_probability[0] * 100:.2f}%\")\n"
   ]
  },
  {
   "cell_type": "code",
   "execution_count": 4,
   "metadata": {},
   "outputs": [],
   "source": [
    "# Procesa los datos: crea la columna 'liked', convierte géneros a variables dummy, \n",
    "# realiza Label Encoding para 'artist' y elimina columnas no necesarias.\n",
    "\n",
    "track_df['liked'] = track_df['popularity'].apply(lambda x: 1 if x > 70 else 0)\n",
    "\n",
    "if 'genres' in track_df.columns:\n",
    "    track_df = track_df.join(track_df['genres'].str.join('|').str.get_dummies())\n",
    "    track_df.drop('genres', axis=1, inplace=True)\n",
    "\n",
    "label_encoder = LabelEncoder()\n",
    "track_df['artist'] = label_encoder.fit_transform(track_df['artist'])\n",
    "\n",
    "track_df.drop('name', axis=1, inplace=True)"
   ]
  },
  {
   "cell_type": "code",
   "execution_count": 5,
   "metadata": {},
   "outputs": [
    {
     "name": "stdout",
     "output_type": "stream",
     "text": [
      "Precisión del modelo: 100.00%\n",
      "Probabilidad de que te guste la canción: 4.00%\n"
     ]
    }
   ],
   "source": [
    "# Entrena un modelo de Random Forest para predecir si te gusta una canción y calcula la precisión.\n",
    "\n",
    "X = track_df.drop('liked', axis=1)\n",
    "y = track_df['liked']\n",
    "\n",
    "X_train, X_test, y_train, y_test = train_test_split(X, y, test_size=0.2, random_state=42)\n",
    "\n",
    "model = RandomForestClassifier(n_estimators=100, random_state=42)\n",
    "model.fit(X_train, y_train)\n",
    "\n",
    "y_pred = model.predict(X_test)\n",
    "\n",
    "accuracy = accuracy_score(y_test, y_pred)\n",
    "print(f\"Precisión del modelo: {accuracy * 100:.2f}%\")\n",
    "\n",
    "probabilidad = model.predict_proba(X_test)\n",
    "\n",
    "probabilidad_te_guste = probabilidad[:, 1]\n",
    "print(f\"Probabilidad de que te guste la canción: {probabilidad_te_guste[0] * 100:.2f}%\")\n"
   ]
  }
 ],
 "metadata": {
  "kernelspec": {
   "display_name": "venv",
   "language": "python",
   "name": "python3"
  },
  "language_info": {
   "codemirror_mode": {
    "name": "ipython",
    "version": 3
   },
   "file_extension": ".py",
   "mimetype": "text/x-python",
   "name": "python",
   "nbconvert_exporter": "python",
   "pygments_lexer": "ipython3",
   "version": "3.13.1"
  }
 },
 "nbformat": 4,
 "nbformat_minor": 2
}
